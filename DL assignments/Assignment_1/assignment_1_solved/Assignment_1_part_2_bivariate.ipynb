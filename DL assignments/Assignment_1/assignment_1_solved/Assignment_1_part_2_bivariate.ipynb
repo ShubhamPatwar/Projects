{
 "cells": [
  {
   "cell_type": "code",
   "execution_count": 1,
   "id": "71bdd56c",
   "metadata": {},
   "outputs": [],
   "source": [
    "import numpy as np\n",
    "import pandas as pd\n",
    "import matplotlib.pyplot as plt"
   ]
  },
  {
   "cell_type": "code",
   "execution_count": 2,
   "id": "3069f2b8",
   "metadata": {},
   "outputs": [
    {
     "data": {
      "text/html": [
       "<div>\n",
       "<style scoped>\n",
       "    .dataframe tbody tr th:only-of-type {\n",
       "        vertical-align: middle;\n",
       "    }\n",
       "\n",
       "    .dataframe tbody tr th {\n",
       "        vertical-align: top;\n",
       "    }\n",
       "\n",
       "    .dataframe thead th {\n",
       "        text-align: right;\n",
       "    }\n",
       "</style>\n",
       "<table border=\"1\" class=\"dataframe\">\n",
       "  <thead>\n",
       "    <tr style=\"text-align: right;\">\n",
       "      <th></th>\n",
       "      <th>0.53</th>\n",
       "      <th>0.04</th>\n",
       "      <th>1.7184</th>\n",
       "    </tr>\n",
       "  </thead>\n",
       "  <tbody>\n",
       "    <tr>\n",
       "      <th>0</th>\n",
       "      <td>0.35</td>\n",
       "      <td>0.74</td>\n",
       "      <td>2.9055</td>\n",
       "    </tr>\n",
       "    <tr>\n",
       "      <th>1</th>\n",
       "      <td>0.65</td>\n",
       "      <td>0.82</td>\n",
       "      <td>4.4059</td>\n",
       "    </tr>\n",
       "    <tr>\n",
       "      <th>2</th>\n",
       "      <td>0.35</td>\n",
       "      <td>0.70</td>\n",
       "      <td>2.8263</td>\n",
       "    </tr>\n",
       "    <tr>\n",
       "      <th>3</th>\n",
       "      <td>0.76</td>\n",
       "      <td>0.31</td>\n",
       "      <td>2.9612</td>\n",
       "    </tr>\n",
       "    <tr>\n",
       "      <th>4</th>\n",
       "      <td>0.94</td>\n",
       "      <td>0.25</td>\n",
       "      <td>3.2161</td>\n",
       "    </tr>\n",
       "  </tbody>\n",
       "</table>\n",
       "</div>"
      ],
      "text/plain": [
       "   0.53  0.04  1.7184\n",
       "0  0.35  0.74  2.9055\n",
       "1  0.65  0.82  4.4059\n",
       "2  0.35  0.70  2.8263\n",
       "3  0.76  0.31  2.9612\n",
       "4  0.94  0.25  3.2161"
      ]
     },
     "execution_count": 2,
     "metadata": {},
     "output_type": "execute_result"
    }
   ],
   "source": [
    "data = pd.read_csv(r\"C:\\Users\\sppat\\OneDrive\\Desktop\\coding_practice\\ML_codes\\Assignment_1_data\\assignmnet1\\Group09\\Group09\\Regression\\BivariateData\\9.csv\") # \n",
    "data = data.sample(frac=1).reset_index(drop=True) # shuffle\n",
    "data.head()\n"
   ]
  },
  {
   "cell_type": "code",
   "execution_count": 3,
   "id": "0efb4a21",
   "metadata": {},
   "outputs": [
    {
     "data": {
      "text/html": [
       "<div>\n",
       "<style scoped>\n",
       "    .dataframe tbody tr th:only-of-type {\n",
       "        vertical-align: middle;\n",
       "    }\n",
       "\n",
       "    .dataframe tbody tr th {\n",
       "        vertical-align: top;\n",
       "    }\n",
       "\n",
       "    .dataframe thead th {\n",
       "        text-align: right;\n",
       "    }\n",
       "</style>\n",
       "<table border=\"1\" class=\"dataframe\">\n",
       "  <thead>\n",
       "    <tr style=\"text-align: right;\">\n",
       "      <th></th>\n",
       "      <th>Feature1</th>\n",
       "      <th>Feature2</th>\n",
       "      <th>Target</th>\n",
       "    </tr>\n",
       "  </thead>\n",
       "  <tbody>\n",
       "    <tr>\n",
       "      <th>0</th>\n",
       "      <td>0.35</td>\n",
       "      <td>0.74</td>\n",
       "      <td>2.9055</td>\n",
       "    </tr>\n",
       "    <tr>\n",
       "      <th>1</th>\n",
       "      <td>0.65</td>\n",
       "      <td>0.82</td>\n",
       "      <td>4.4059</td>\n",
       "    </tr>\n",
       "    <tr>\n",
       "      <th>2</th>\n",
       "      <td>0.35</td>\n",
       "      <td>0.70</td>\n",
       "      <td>2.8263</td>\n",
       "    </tr>\n",
       "    <tr>\n",
       "      <th>3</th>\n",
       "      <td>0.76</td>\n",
       "      <td>0.31</td>\n",
       "      <td>2.9612</td>\n",
       "    </tr>\n",
       "    <tr>\n",
       "      <th>4</th>\n",
       "      <td>0.94</td>\n",
       "      <td>0.25</td>\n",
       "      <td>3.2161</td>\n",
       "    </tr>\n",
       "    <tr>\n",
       "      <th>...</th>\n",
       "      <td>...</td>\n",
       "      <td>...</td>\n",
       "      <td>...</td>\n",
       "    </tr>\n",
       "    <tr>\n",
       "      <th>10195</th>\n",
       "      <td>0.05</td>\n",
       "      <td>0.72</td>\n",
       "      <td>2.1618</td>\n",
       "    </tr>\n",
       "    <tr>\n",
       "      <th>10196</th>\n",
       "      <td>0.80</td>\n",
       "      <td>0.36</td>\n",
       "      <td>3.2286</td>\n",
       "    </tr>\n",
       "    <tr>\n",
       "      <th>10197</th>\n",
       "      <td>0.19</td>\n",
       "      <td>0.57</td>\n",
       "      <td>2.1632</td>\n",
       "    </tr>\n",
       "    <tr>\n",
       "      <th>10198</th>\n",
       "      <td>0.33</td>\n",
       "      <td>0.09</td>\n",
       "      <td>1.5976</td>\n",
       "    </tr>\n",
       "    <tr>\n",
       "      <th>10199</th>\n",
       "      <td>0.63</td>\n",
       "      <td>0.39</td>\n",
       "      <td>2.8225</td>\n",
       "    </tr>\n",
       "  </tbody>\n",
       "</table>\n",
       "<p>10200 rows × 3 columns</p>\n",
       "</div>"
      ],
      "text/plain": [
       "       Feature1  Feature2  Target\n",
       "0          0.35      0.74  2.9055\n",
       "1          0.65      0.82  4.4059\n",
       "2          0.35      0.70  2.8263\n",
       "3          0.76      0.31  2.9612\n",
       "4          0.94      0.25  3.2161\n",
       "...         ...       ...     ...\n",
       "10195      0.05      0.72  2.1618\n",
       "10196      0.80      0.36  3.2286\n",
       "10197      0.19      0.57  2.1632\n",
       "10198      0.33      0.09  1.5976\n",
       "10199      0.63      0.39  2.8225\n",
       "\n",
       "[10200 rows x 3 columns]"
      ]
     },
     "execution_count": 3,
     "metadata": {},
     "output_type": "execute_result"
    }
   ],
   "source": [
    "# vizualising the data\n",
    "\n",
    "data.columns = ['Feature1','Feature2', 'Target'] \n",
    "data"
   ]
  },
  {
   "cell_type": "code",
   "execution_count": 4,
   "id": "1dc6a4db",
   "metadata": {},
   "outputs": [],
   "source": [
    "import matplotlib.pyplot as plt\n",
    "from mpl_toolkits.mplot3d import Axes3D"
   ]
  },
  {
   "cell_type": "code",
   "execution_count": null,
   "id": "b2942e6d",
   "metadata": {},
   "outputs": [
    {
     "data": {
      "image/png": "[encoded data removed]",
      "text/plain": [
       "<Figure size 640x480 with 1 Axes>"
      ]
     },
     "metadata": {},
     "output_type": "display_data"
    }
   ],
   "source": [
    "\n",
    "\n",
    "fig = plt.figure()\n",
    "ax = fig.add_subplot(111, projection='3d')\n",
    "\n",
    "ax.scatter(data[\"Feature1\"], data[\"Feature2\"], data[\"Target\"])\n",
    "\n",
    "\n",
    "ax.set_title(\"Biivariate data given\")\n",
    "ax.set_xlabel(\"Feature1\")\n",
    "ax.set_ylabel(\"Feature2\")\n",
    "ax.set_zlabel(\"Target\")\n",
    "\n",
    "plt.show()\n"
   ]
  },
  {
   "cell_type": "code",
   "execution_count": 8,
   "id": "517b744e",
   "metadata": {},
   "outputs": [
    {
     "data": {
      "text/plain": [
       "array([ 0.00179207,  0.00025345, -0.0010694 ])"
      ]
     },
     "execution_count": 8,
     "metadata": {},
     "output_type": "execute_result"
    }
   ],
   "source": [
    "# initialize random weights\n",
    "\n",
    "weights = np.random.randn(3) * 0.001 # two weights , one for feature and one for bias\n",
    "weights"
   ]
  },
  {
   "cell_type": "code",
   "execution_count": 9,
   "id": "fc57e557",
   "metadata": {},
   "outputs": [
    {
     "name": "stdout",
     "output_type": "stream",
     "text": [
      "f_train is having shape (7140, 3)\n",
      "f_test is having shape (3060, 3)\n"
     ]
    }
   ],
   "source": [
    "# split into training and testing\n",
    "\n",
    "\n",
    "f_train = data[0: int ( (data.shape[0] * 0.7) )] # 70 % training and 30 % testing\n",
    "f_test = data[len(f_train):]\n",
    "\n",
    "print(f\"f_train is having shape { f_train.shape}\")\n",
    "print(f\"f_test is having shape { f_test.shape}\")"
   ]
  },
  {
   "cell_type": "code",
   "execution_count": 11,
   "id": "45a84042",
   "metadata": {},
   "outputs": [],
   "source": [
    "f_train = np.array(f_train) # converting into numpy arrays for my comfrotability\n",
    "f_test =  np.array(f_test)\n",
    "\n",
    "f_train_with_bias = np.insert(f_train ,2,1,axis = 1)\n",
    "f_test_with_bias = np.insert(f_test ,2,1,axis = 1)\n",
    "\n",
    "# f_test_with_bias"
   ]
  },
  {
   "cell_type": "code",
   "execution_count": 12,
   "id": "df37e631",
   "metadata": {},
   "outputs": [
    {
     "data": {
      "text/plain": [
       "array([[0.35  , 0.74  , 1.    , 2.9055],\n",
       "       [0.65  , 0.82  , 1.    , 4.4059],\n",
       "       [0.35  , 0.7   , 1.    , 2.8263],\n",
       "       ...,\n",
       "       [0.37  , 0.71  , 1.    , 2.9701],\n",
       "       [0.47  , 0.76  , 1.    , 3.4857],\n",
       "       [0.14  , 0.57  , 1.    , 1.9821]], shape=(7140, 4))"
      ]
     },
     "execution_count": 12,
     "metadata": {},
     "output_type": "execute_result"
    }
   ],
   "source": [
    "f_train_with_bias"
   ]
  },
  {
   "cell_type": "code",
   "execution_count": 14,
   "id": "a92c2bd4",
   "metadata": {},
   "outputs": [
    {
     "name": "stdout",
     "output_type": "stream",
     "text": [
      "Epoch no is 0 | avg error is 1.9903385385381937e+18 | weights are [-3.22884644e+09 -3.22358171e+09 -6.01075179e+09]\n",
      "Epoch no is 1 | avg error is 1.823759780118848e+37 | weights are [-9.77389640e+18 -9.75795978e+18 -1.81948775e+19]\n",
      "Epoch no is 2 | avg error is 1.6711226111664827e+56 | weights are [-2.95861239e+28 -2.95378829e+28 -5.50768985e+28]\n",
      "Epoch no is 3 | avg error is 1.5312602087156162e+75 | weights are [-8.95588304e+37 -8.94128021e+37 -1.66720812e+38]\n",
      "Epoch no is 4 | avg error is 1.4031034055359042e+94 | weights are [-2.71099523e+47 -2.70657488e+47 -5.04673101e+47]\n",
      "Epoch no is 5 | avg error is 1.2856725169380427e+113 | weights are [-8.20633222e+56 -8.19295156e+56 -1.52767334e+57]\n",
      "Epoch no is 6 | avg error is 1.1780698516503557e+132 | weights are [-2.48410206e+66 -2.48005166e+66 -4.62435152e+66]\n",
      "Epoch no is 7 | avg error is 1.0794728494879844e+151 | weights are [-7.51951407e+75 -7.50725329e+75 -1.39981673e+76]\n",
      "Epoch no is 8 | avg error is 9.891277933556269e+169 | weights are [-2.27619842e+85 -2.27248701e+85 -4.23732252e+85]\n",
      "Epoch no is 9 | avg error is 9.063440475159969e+188 | weights are [-6.89017826e+94 -6.87894363e+94 -1.28266092e+95]\n"
     ]
    }
   ],
   "source": [
    "Epoches = 10\n",
    "epoch_loss = []\n",
    "eta = 1e-3\n",
    "for Epoch in range(Epoches):\n",
    "    avg_error = []\n",
    "    \n",
    "    for i in f_train_with_bias:\n",
    "        \n",
    "        a = np.dot(weights.T , i[0:3])\n",
    "        f_a = a # representing linear activation functio\n",
    "        E = (i[3] - f_a) ** 2  # we are following SGD , so we will update weights  after every error \n",
    "        avg_error.append(E)\n",
    "        weights = weights - eta * (2 * (i[3] - f_a) * i[0:3])\n",
    "        \n",
    "        \n",
    "    epoch_avg_error = np.mean(avg_error)\n",
    "    print(f\"Epoch no is {Epoch} | avg error is {round(epoch_avg_error , 4)} | weights are {weights}\")\n",
    "\n",
    "\n",
    "\n",
    "\n",
    "    \n"
   ]
  },
  {
   "cell_type": "code",
   "execution_count": 15,
   "id": "0d417239",
   "metadata": {},
   "outputs": [],
   "source": [
    "# weights are exploding "
   ]
  },
  {
   "cell_type": "code",
   "execution_count": null,
   "id": "17e25a76",
   "metadata": {},
   "outputs": [],
   "source": []
  }
 ],
 "metadata": {
  "kernelspec": {
   "display_name": "Python 3",
   "language": "python",
   "name": "python3"
  },
  "language_info": {
   "codemirror_mode": {
    "name": "ipython",
    "version": 3
   },
   "file_extension": ".py",
   "mimetype": "text/x-python",
   "name": "python",
   "nbconvert_exporter": "python",
   "pygments_lexer": "ipython3",
   "version": "3.13.2"
  }
 },
 "nbformat": 4,
 "nbformat_minor": 5
}
