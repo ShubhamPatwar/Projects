{
 "cells": [
  {
   "cell_type": "markdown",
   "id": "7b486799",
   "metadata": {},
   "source": [
    "Reading a univariate data first\n"
   ]
  },
  {
   "cell_type": "code",
   "execution_count": 1,
   "id": "2b4bb885",
   "metadata": {},
   "outputs": [],
   "source": [
    "import numpy as np\n",
    "import pandas as pd\n",
    "import matplotlib.pyplot as plt"
   ]
  },
  {
   "cell_type": "code",
   "execution_count": 2,
   "id": "a05aa8ea",
   "metadata": {},
   "outputs": [
    {
     "data": {
      "text/html": [
       "<div>\n",
       "<style scoped>\n",
       "    .dataframe tbody tr th:only-of-type {\n",
       "        vertical-align: middle;\n",
       "    }\n",
       "\n",
       "    .dataframe tbody tr th {\n",
       "        vertical-align: top;\n",
       "    }\n",
       "\n",
       "    .dataframe thead th {\n",
       "        text-align: right;\n",
       "    }\n",
       "</style>\n",
       "<table border=\"1\" class=\"dataframe\">\n",
       "  <thead>\n",
       "    <tr style=\"text-align: right;\">\n",
       "      <th></th>\n",
       "      <th>0.192</th>\n",
       "      <th>0.022934</th>\n",
       "    </tr>\n",
       "  </thead>\n",
       "  <tbody>\n",
       "    <tr>\n",
       "      <th>0</th>\n",
       "      <td>0.133</td>\n",
       "      <td>0.007340</td>\n",
       "    </tr>\n",
       "    <tr>\n",
       "      <th>1</th>\n",
       "      <td>0.801</td>\n",
       "      <td>2.890400</td>\n",
       "    </tr>\n",
       "    <tr>\n",
       "      <th>2</th>\n",
       "      <td>0.261</td>\n",
       "      <td>0.249900</td>\n",
       "    </tr>\n",
       "    <tr>\n",
       "      <th>3</th>\n",
       "      <td>0.987</td>\n",
       "      <td>8.962800</td>\n",
       "    </tr>\n",
       "    <tr>\n",
       "      <th>4</th>\n",
       "      <td>0.295</td>\n",
       "      <td>0.078042</td>\n",
       "    </tr>\n",
       "  </tbody>\n",
       "</table>\n",
       "</div>"
      ],
      "text/plain": [
       "   0.192  0.022934\n",
       "0  0.133  0.007340\n",
       "1  0.801  2.890400\n",
       "2  0.261  0.249900\n",
       "3  0.987  8.962800\n",
       "4  0.295  0.078042"
      ]
     },
     "execution_count": 2,
     "metadata": {},
     "output_type": "execute_result"
    }
   ],
   "source": [
    "data = pd.read_csv(r\"C:\\Users\\sppat\\OneDrive\\Desktop\\coding_practice\\ML_codes\\Assignment_1_data\\assignmnet1\\Group09\\Group09\\Regression\\UnivariateData\\9.csv\")\n",
    "data = data.sample(frac=1).reset_index(drop=True) # shuffle\n",
    "data.head()\n"
   ]
  },
  {
   "cell_type": "code",
   "execution_count": 4,
   "id": "a81ff3b4",
   "metadata": {},
   "outputs": [
    {
     "data": {
      "text/html": [
       "<div>\n",
       "<style scoped>\n",
       "    .dataframe tbody tr th:only-of-type {\n",
       "        vertical-align: middle;\n",
       "    }\n",
       "\n",
       "    .dataframe tbody tr th {\n",
       "        vertical-align: top;\n",
       "    }\n",
       "\n",
       "    .dataframe thead th {\n",
       "        text-align: right;\n",
       "    }\n",
       "</style>\n",
       "<table border=\"1\" class=\"dataframe\">\n",
       "  <thead>\n",
       "    <tr style=\"text-align: right;\">\n",
       "      <th></th>\n",
       "      <th>Feature</th>\n",
       "      <th>Target</th>\n",
       "    </tr>\n",
       "  </thead>\n",
       "  <tbody>\n",
       "    <tr>\n",
       "      <th>0</th>\n",
       "      <td>0.133</td>\n",
       "      <td>0.007340</td>\n",
       "    </tr>\n",
       "    <tr>\n",
       "      <th>1</th>\n",
       "      <td>0.801</td>\n",
       "      <td>2.890400</td>\n",
       "    </tr>\n",
       "    <tr>\n",
       "      <th>2</th>\n",
       "      <td>0.261</td>\n",
       "      <td>0.249900</td>\n",
       "    </tr>\n",
       "    <tr>\n",
       "      <th>3</th>\n",
       "      <td>0.987</td>\n",
       "      <td>8.962800</td>\n",
       "    </tr>\n",
       "    <tr>\n",
       "      <th>4</th>\n",
       "      <td>0.295</td>\n",
       "      <td>0.078042</td>\n",
       "    </tr>\n",
       "    <tr>\n",
       "      <th>...</th>\n",
       "      <td>...</td>\n",
       "      <td>...</td>\n",
       "    </tr>\n",
       "    <tr>\n",
       "      <th>995</th>\n",
       "      <td>0.236</td>\n",
       "      <td>0.061861</td>\n",
       "    </tr>\n",
       "    <tr>\n",
       "      <th>996</th>\n",
       "      <td>0.842</td>\n",
       "      <td>3.626000</td>\n",
       "    </tr>\n",
       "    <tr>\n",
       "      <th>997</th>\n",
       "      <td>0.219</td>\n",
       "      <td>0.035393</td>\n",
       "    </tr>\n",
       "    <tr>\n",
       "      <th>998</th>\n",
       "      <td>0.891</td>\n",
       "      <td>4.931800</td>\n",
       "    </tr>\n",
       "    <tr>\n",
       "      <th>999</th>\n",
       "      <td>0.244</td>\n",
       "      <td>0.175590</td>\n",
       "    </tr>\n",
       "  </tbody>\n",
       "</table>\n",
       "<p>1000 rows × 2 columns</p>\n",
       "</div>"
      ],
      "text/plain": [
       "     Feature    Target\n",
       "0      0.133  0.007340\n",
       "1      0.801  2.890400\n",
       "2      0.261  0.249900\n",
       "3      0.987  8.962800\n",
       "4      0.295  0.078042\n",
       "..       ...       ...\n",
       "995    0.236  0.061861\n",
       "996    0.842  3.626000\n",
       "997    0.219  0.035393\n",
       "998    0.891  4.931800\n",
       "999    0.244  0.175590\n",
       "\n",
       "[1000 rows x 2 columns]"
      ]
     },
     "execution_count": 4,
     "metadata": {},
     "output_type": "execute_result"
    }
   ],
   "source": [
    "# vizualising the data\n",
    "\n",
    "data.columns = ['Feature', 'Target'] \n",
    "data"
   ]
  },
  {
   "cell_type": "code",
   "execution_count": 5,
   "id": "46fc20ce",
   "metadata": {},
   "outputs": [
    {
     "data": {
      "image/png": "[encoded data removed]",
      "text/plain": [
       "<Figure size 640x480 with 1 Axes>"
      ]
     },
     "metadata": {},
     "output_type": "display_data"
    }
   ],
   "source": [
    "plt.scatter(data[\"Feature\"]  , data['Target'])\n",
    "plt.title(\"Univariate data given\")\n",
    "plt.xlabel(\"Features\")\n",
    "plt.ylabel(\"Targets\")\n",
    "plt.show()"
   ]
  },
  {
   "cell_type": "code",
   "execution_count": 21,
   "id": "8af7e881",
   "metadata": {},
   "outputs": [
    {
     "data": {
      "text/plain": [
       "array([0.00072195, 0.001402  ])"
      ]
     },
     "execution_count": 21,
     "metadata": {},
     "output_type": "execute_result"
    }
   ],
   "source": [
    "# initialize random weights\n",
    "\n",
    "weights = np.random.randn(2) * 0.001 # two weights , one for feature and one for bias\n",
    "weights"
   ]
  },
  {
   "cell_type": "code",
   "execution_count": 18,
   "id": "3a556c71",
   "metadata": {},
   "outputs": [
    {
     "name": "stdout",
     "output_type": "stream",
     "text": [
      "f_train is having shape (700, 2)\n",
      "f_test is having shape (300, 2)\n"
     ]
    }
   ],
   "source": [
    "# split into training and testing\n",
    "\n",
    "\n",
    "f_train = data[0: int ( (data.shape[0] * 0.7) )] # 70 % training and 30 % testing\n",
    "f_test = data[len(f_train):]\n",
    "\n",
    "print(f\"f_train is having shape { f_train.shape}\")\n",
    "print(f\"f_test is having shape { f_test.shape}\")"
   ]
  },
  {
   "cell_type": "code",
   "execution_count": 19,
   "id": "0996c3d6",
   "metadata": {},
   "outputs": [],
   "source": [
    "f_train = np.array(f_train) # converting into numpy arrays for my comfrotability\n",
    "f_test =  np.array(f_test)\n",
    "\n",
    "f_train_with_bias = np.insert(f_train ,1,1,axis = 1)\n",
    "f_test_with_bias = np.insert(f_test ,1,1,axis = 1)\n",
    "\n",
    "# f_test_with_bias"
   ]
  },
  {
   "cell_type": "code",
   "execution_count": 22,
   "id": "9eb7e2c8",
   "metadata": {},
   "outputs": [
    {
     "name": "stdout",
     "output_type": "stream",
     "text": [
      "Epoch no is 0 | avg error is 25.7425 | weights are [-4.44199603 -6.91572567]\n",
      "Epoch no is 1 | avg error is 1135.5215 | weights are [-28.09648706 -49.43171671]\n",
      "Epoch no is 2 | avg error is 41473.17 | weights are [-165.50169277 -303.35373399]\n",
      "Epoch no is 3 | avg error is 1469569.8993 | weights are [ -977.67996631 -1812.03523961]\n",
      "Epoch no is 4 | avg error is 51810089.6144 | weights are [ -5794.02903074 -10767.34412278]\n",
      "Epoch no is 5 | avg error is 1825021071.6951 | weights are [-34373.05764679 -63915.36217613]\n",
      "Epoch no is 6 | avg error is 64277488392.9851 | weights are [-203972.95931015 -379328.25349592]\n",
      "Epoch no is 7 | avg error is 2263806806674.4966 | weights are [-1210470.49902624 -2251170.27179522]\n",
      "Epoch no is 8 | avg error is 79729316841827.17 | weights are [ -7183594.08700894 -13359748.07830714]\n",
      "Epoch no is 9 | avg error is 2807995604306765.0 | weights are [-42631500.53502215 -79284369.01698203]\n"
     ]
    }
   ],
   "source": [
    "Epoches = 10\n",
    "epoch_loss = []\n",
    "eta = 1e-3\n",
    "for Epoch in range(Epoches):\n",
    "    avg_error = []\n",
    "    \n",
    "    for i in f_train_with_bias:\n",
    "        \n",
    "        a = np.dot(weights.T , i[0:2])\n",
    "        f_a = a # representing linear activation functio\n",
    "        E = (i[1] - f_a) ** 2  # we are following SGD , so we will update weights  after every error \n",
    "        avg_error.append(E)\n",
    "        weights = weights - eta * (2 * (i[2] - f_a) * i[0:2])\n",
    "        \n",
    "        \n",
    "    epoch_avg_error = np.mean(avg_error)\n",
    "    print(f\"Epoch no is {Epoch} | avg error is {round(epoch_avg_error , 4)} | weights are {weights}\")\n",
    "\n",
    "\n",
    "\n",
    "\n",
    "    \n"
   ]
  },
  {
   "cell_type": "markdown",
   "id": "c7216e41",
   "metadata": {},
   "source": [
    "weights are exploding , so trying to normalize input , but not the target ."
   ]
  },
  {
   "cell_type": "code",
   "execution_count": 23,
   "id": "fd9d4ddb",
   "metadata": {},
   "outputs": [
    {
     "name": "stdout",
     "output_type": "stream",
     "text": [
      "mean is 0.50561 and std deviation is 0.29041\n"
     ]
    }
   ],
   "source": [
    "mu = np.mean(f_train[:,0])\n",
    "mu\n",
    "sigma = np.std(f_train[:,0])\n",
    "print(f\"mean is {round(mu,5)} and std deviation is {round(sigma,5)}\")\n",
    "\n"
   ]
  },
  {
   "cell_type": "code",
   "execution_count": 29,
   "id": "3c5d7353",
   "metadata": {},
   "outputs": [],
   "source": [
    "new_array_x = []\n",
    "new_array_y = []\n",
    "\n",
    "for i in f_train:\n",
    "    z = (i[0] - mu) / sigma\n",
    "    y = i[1]\n",
    "    \n",
    "    new_array_x.append(z)\n",
    "    new_array_y.append(y)    \n",
    "\n",
    "df_x = pd.DataFrame(new_array_x)\n",
    "df_y = pd.DataFrame(new_array_y)"
   ]
  },
  {
   "cell_type": "code",
   "execution_count": 30,
   "id": "a698b250",
   "metadata": {},
   "outputs": [
    {
     "data": {
      "text/html": [
       "<div>\n",
       "<style scoped>\n",
       "    .dataframe tbody tr th:only-of-type {\n",
       "        vertical-align: middle;\n",
       "    }\n",
       "\n",
       "    .dataframe tbody tr th {\n",
       "        vertical-align: top;\n",
       "    }\n",
       "\n",
       "    .dataframe thead th {\n",
       "        text-align: right;\n",
       "    }\n",
       "</style>\n",
       "<table border=\"1\" class=\"dataframe\">\n",
       "  <thead>\n",
       "    <tr style=\"text-align: right;\">\n",
       "      <th></th>\n",
       "      <th>feature</th>\n",
       "      <th>target</th>\n",
       "    </tr>\n",
       "  </thead>\n",
       "  <tbody>\n",
       "    <tr>\n",
       "      <th>0</th>\n",
       "      <td>-1.283052</td>\n",
       "      <td>0.007340</td>\n",
       "    </tr>\n",
       "    <tr>\n",
       "      <th>1</th>\n",
       "      <td>1.017142</td>\n",
       "      <td>2.890400</td>\n",
       "    </tr>\n",
       "    <tr>\n",
       "      <th>2</th>\n",
       "      <td>-0.842296</td>\n",
       "      <td>0.249900</td>\n",
       "    </tr>\n",
       "    <tr>\n",
       "      <th>3</th>\n",
       "      <td>1.657616</td>\n",
       "      <td>8.962800</td>\n",
       "    </tr>\n",
       "    <tr>\n",
       "      <th>4</th>\n",
       "      <td>-0.725220</td>\n",
       "      <td>0.078042</td>\n",
       "    </tr>\n",
       "    <tr>\n",
       "      <th>...</th>\n",
       "      <td>...</td>\n",
       "      <td>...</td>\n",
       "    </tr>\n",
       "    <tr>\n",
       "      <th>695</th>\n",
       "      <td>-1.296826</td>\n",
       "      <td>0.019779</td>\n",
       "    </tr>\n",
       "    <tr>\n",
       "      <th>696</th>\n",
       "      <td>-0.883617</td>\n",
       "      <td>0.115040</td>\n",
       "    </tr>\n",
       "    <tr>\n",
       "      <th>697</th>\n",
       "      <td>-1.186637</td>\n",
       "      <td>0.102660</td>\n",
       "    </tr>\n",
       "    <tr>\n",
       "      <th>698</th>\n",
       "      <td>-1.365694</td>\n",
       "      <td>0.031871</td>\n",
       "    </tr>\n",
       "    <tr>\n",
       "      <th>699</th>\n",
       "      <td>-0.429088</td>\n",
       "      <td>0.160080</td>\n",
       "    </tr>\n",
       "  </tbody>\n",
       "</table>\n",
       "<p>700 rows × 2 columns</p>\n",
       "</div>"
      ],
      "text/plain": [
       "      feature    target\n",
       "0   -1.283052  0.007340\n",
       "1    1.017142  2.890400\n",
       "2   -0.842296  0.249900\n",
       "3    1.657616  8.962800\n",
       "4   -0.725220  0.078042\n",
       "..        ...       ...\n",
       "695 -1.296826  0.019779\n",
       "696 -0.883617  0.115040\n",
       "697 -1.186637  0.102660\n",
       "698 -1.365694  0.031871\n",
       "699 -0.429088  0.160080\n",
       "\n",
       "[700 rows x 2 columns]"
      ]
     },
     "execution_count": 30,
     "metadata": {},
     "output_type": "execute_result"
    }
   ],
   "source": [
    "df_new = pd.concat([df_x,df_y],axis = 1)\n",
    "df_new.columns = [\"feature\" , \"target\"]\n",
    "df_new\n",
    "\n"
   ]
  },
  {
   "cell_type": "code",
   "execution_count": 32,
   "id": "92a36dd8",
   "metadata": {},
   "outputs": [
    {
     "data": {
      "text/plain": [
       "array([[-1.28305204,  1.        ,  0.0073396 ],\n",
       "       [ 1.01714247,  1.        ,  2.8904    ],\n",
       "       [-0.8422962 ,  1.        ,  0.2499    ],\n",
       "       ...,\n",
       "       [-1.1866367 ,  1.        ,  0.10266   ],\n",
       "       [-1.36569376,  1.        ,  0.031871  ],\n",
       "       [-0.42908761,  1.        ,  0.16008   ]], shape=(700, 3))"
      ]
     },
     "execution_count": 32,
     "metadata": {},
     "output_type": "execute_result"
    }
   ],
   "source": [
    "data_normalized_with_bias = np.insert(df_new , 1,1,axis = 1)\n",
    "data_normalized_with_bias"
   ]
  },
  {
   "cell_type": "code",
   "execution_count": 35,
   "id": "82da3af1",
   "metadata": {},
   "outputs": [
    {
     "name": "stdout",
     "output_type": "stream",
     "text": [
      "Epoch no is 0 | avg error is 8.1991 | weights are [-0.02541461 -0.02467298]\n",
      "Epoch no is 1 | avg error is 8.3784 | weights are [-0.05256442 -0.04782146]\n",
      "Epoch no is 2 | avg error is 8.5627 | weights are [-0.08009698 -0.07129629]\n",
      "Epoch no is 3 | avg error is 8.7524 | weights are [-0.1080177  -0.09510208]\n",
      "Epoch no is 4 | avg error is 8.9474 | weights are [-0.13633204 -0.11924349]\n",
      "Epoch no is 5 | avg error is 9.1479 | weights are [-0.16504556 -0.14372525]\n",
      "Epoch no is 6 | avg error is 9.3542 | weights are [-0.19416388 -0.16855216]\n",
      "Epoch no is 7 | avg error is 9.5663 | weights are [-0.22369271 -0.19372909]\n",
      "Epoch no is 8 | avg error is 9.7844 | weights are [-0.25363784 -0.21926097]\n",
      "Epoch no is 9 | avg error is 10.0087 | weights are [-0.28400513 -0.2451528 ]\n",
      "Epoch no is 10 | avg error is 10.2394 | weights are [-0.31480054 -0.27140967]\n",
      "Epoch no is 11 | avg error is 10.4767 | weights are [-0.34603011 -0.29803671]\n",
      "Epoch no is 12 | avg error is 10.7207 | weights are [-0.37769995 -0.32503915]\n",
      "Epoch no is 13 | avg error is 10.9716 | weights are [-0.40981627 -0.35242228]\n",
      "Epoch no is 14 | avg error is 11.2296 | weights are [-0.44238536 -0.38019146]\n",
      "Epoch no is 15 | avg error is 11.495 | weights are [-0.47541362 -0.40835214]\n"
     ]
    }
   ],
   "source": [
    "weights = np.random.randn(2) * 0.001 # one extra weight as bias\n",
    "\n",
    "\n",
    "Epoches = 16\n",
    "epoch_loss = []\n",
    "eta = 1e-5\n",
    "\n",
    "for Epoch in range(Epoches):\n",
    "\n",
    "    avg_error = []\n",
    "    \n",
    "    for i in data_normalized_with_bias:\n",
    "        \n",
    "        a = np.dot(weights.T , i[0:2])\n",
    "        f_a = a # representing linear activation functio\n",
    "        E = (i[2] - f_a) ** 2  # we are following SGD , so we will update weights  after every error \n",
    "        avg_error.append(E)\n",
    "        weights = weights - eta * (2 * (i[2] - f_a) * i[0:2])\n",
    "        \n",
    "        \n",
    "    epoch_avg_error = np.mean(avg_error)\n",
    "    epoch_loss.append(epoch_avg_error)\n",
    "    print(f\"Epoch no is {Epoch} | avg error is {round(epoch_avg_error , 4)} | weights are {weights}\")\n",
    "\n",
    "\n",
    "\n",
    "\n",
    "    \n"
   ]
  },
  {
   "cell_type": "markdown",
   "id": "5a3a8e21",
   "metadata": {},
   "source": [
    "even after , normalizingg features ,reducing learning rate  ,  the weights are exploding , also now i am trying to normalize targets as well\n"
   ]
  },
  {
   "cell_type": "code",
   "execution_count": 36,
   "id": "dfb31814",
   "metadata": {},
   "outputs": [
    {
     "name": "stdout",
     "output_type": "stream",
     "text": [
      "mean is 1.61695 and std deviation is 2.34441\n"
     ]
    }
   ],
   "source": [
    "mu_target = np.mean(f_train[:,1])\n",
    "sigma_target = np.std(f_train[:,1])\n",
    "print(f\"mean is {round(mu_target,5)} and std deviation is {round(sigma_target,5)}\")\n"
   ]
  },
  {
   "cell_type": "code",
   "execution_count": 38,
   "id": "e275cf60",
   "metadata": {},
   "outputs": [],
   "source": [
    "new_array_x = []\n",
    "new_array_y = []\n",
    "\n",
    "for i in f_train:\n",
    "    z = (i[0] - mu) / sigma\n",
    "    y = (i[1] - mu_target) / sigma_target\n",
    "    \n",
    "    new_array_x.append(z)\n",
    "    new_array_y.append(y)    \n",
    "\n",
    "df_x = pd.DataFrame(new_array_x)\n",
    "df_y = pd.DataFrame(new_array_y)"
   ]
  },
  {
   "cell_type": "code",
   "execution_count": 39,
   "id": "d31530a0",
   "metadata": {},
   "outputs": [
    {
     "data": {
      "text/html": [
       "<div>\n",
       "<style scoped>\n",
       "    .dataframe tbody tr th:only-of-type {\n",
       "        vertical-align: middle;\n",
       "    }\n",
       "\n",
       "    .dataframe tbody tr th {\n",
       "        vertical-align: top;\n",
       "    }\n",
       "\n",
       "    .dataframe thead th {\n",
       "        text-align: right;\n",
       "    }\n",
       "</style>\n",
       "<table border=\"1\" class=\"dataframe\">\n",
       "  <thead>\n",
       "    <tr style=\"text-align: right;\">\n",
       "      <th></th>\n",
       "      <th>feature</th>\n",
       "      <th>target</th>\n",
       "    </tr>\n",
       "  </thead>\n",
       "  <tbody>\n",
       "    <tr>\n",
       "      <th>0</th>\n",
       "      <td>-1.283052</td>\n",
       "      <td>-0.686573</td>\n",
       "    </tr>\n",
       "    <tr>\n",
       "      <th>1</th>\n",
       "      <td>1.017142</td>\n",
       "      <td>0.543188</td>\n",
       "    </tr>\n",
       "    <tr>\n",
       "      <th>2</th>\n",
       "      <td>-0.842296</td>\n",
       "      <td>-0.583109</td>\n",
       "    </tr>\n",
       "    <tr>\n",
       "      <th>3</th>\n",
       "      <td>1.657616</td>\n",
       "      <td>3.133353</td>\n",
       "    </tr>\n",
       "    <tr>\n",
       "      <th>4</th>\n",
       "      <td>-0.725220</td>\n",
       "      <td>-0.656415</td>\n",
       "    </tr>\n",
       "    <tr>\n",
       "      <th>...</th>\n",
       "      <td>...</td>\n",
       "      <td>...</td>\n",
       "    </tr>\n",
       "    <tr>\n",
       "      <th>695</th>\n",
       "      <td>-1.296826</td>\n",
       "      <td>-0.681267</td>\n",
       "    </tr>\n",
       "    <tr>\n",
       "      <th>696</th>\n",
       "      <td>-0.883617</td>\n",
       "      <td>-0.640633</td>\n",
       "    </tr>\n",
       "    <tr>\n",
       "      <th>697</th>\n",
       "      <td>-1.186637</td>\n",
       "      <td>-0.645914</td>\n",
       "    </tr>\n",
       "    <tr>\n",
       "      <th>698</th>\n",
       "      <td>-1.365694</td>\n",
       "      <td>-0.676109</td>\n",
       "    </tr>\n",
       "    <tr>\n",
       "      <th>699</th>\n",
       "      <td>-0.429088</td>\n",
       "      <td>-0.621422</td>\n",
       "    </tr>\n",
       "  </tbody>\n",
       "</table>\n",
       "<p>700 rows × 2 columns</p>\n",
       "</div>"
      ],
      "text/plain": [
       "      feature    target\n",
       "0   -1.283052 -0.686573\n",
       "1    1.017142  0.543188\n",
       "2   -0.842296 -0.583109\n",
       "3    1.657616  3.133353\n",
       "4   -0.725220 -0.656415\n",
       "..        ...       ...\n",
       "695 -1.296826 -0.681267\n",
       "696 -0.883617 -0.640633\n",
       "697 -1.186637 -0.645914\n",
       "698 -1.365694 -0.676109\n",
       "699 -0.429088 -0.621422\n",
       "\n",
       "[700 rows x 2 columns]"
      ]
     },
     "execution_count": 39,
     "metadata": {},
     "output_type": "execute_result"
    }
   ],
   "source": [
    "\n",
    "df_new = pd.concat([df_x,df_y],axis = 1)\n",
    "df_new.columns = [\"feature\" , \"target\"]\n",
    "df_new_both_normalized = df_new\n",
    "df_new_both_normalized\n"
   ]
  },
  {
   "cell_type": "code",
   "execution_count": 40,
   "id": "66a178b9",
   "metadata": {},
   "outputs": [
    {
     "data": {
      "text/plain": [
       "array([[-1.28305204,  1.        , -0.68657275],\n",
       "       [ 1.01714247,  1.        ,  0.54318818],\n",
       "       [-0.8422962 ,  1.        , -0.58310933],\n",
       "       ...,\n",
       "       [-1.1866367 ,  1.        , -0.64591412],\n",
       "       [-1.36569376,  1.        , -0.67610896],\n",
       "       [-0.42908761,  1.        , -0.62142178]], shape=(700, 3))"
      ]
     },
     "execution_count": 40,
     "metadata": {},
     "output_type": "execute_result"
    }
   ],
   "source": [
    "data_all_normalized_with_bias = np.insert(df_new_both_normalized ,1,1,axis=1)\n",
    "data_all_normalized_with_bias"
   ]
  },
  {
   "cell_type": "code",
   "execution_count": null,
   "id": "0dfba739",
   "metadata": {},
   "outputs": [
    {
     "name": "stdout",
     "output_type": "stream",
     "text": [
      "Epoch no is 0 | avg error is 1.0093 | weights are [-1.14536801e-02  2.83390391e-06]\n",
      "Epoch no is 1 | avg error is 1.0282 | weights are [-2.30430555e-02  8.89952538e-07]\n",
      "Epoch no is 2 | avg error is 1.0476 | weights are [-3.47958187e-02 -1.08248382e-06]\n",
      "Epoch no is 3 | avg error is 1.0676 | weights are [-4.67142730e-02 -3.08382197e-06]\n",
      "Epoch no is 4 | avg error is 1.0882 | weights are [-5.88007545e-02 -5.11448479e-06]\n",
      "Epoch no is 5 | avg error is 1.1094 | weights are [-7.10576320e-02 -7.17490134e-06]\n",
      "Epoch no is 6 | avg error is 1.1312 | weights are [-8.34873076e-02 -9.26550696e-06]\n",
      "Epoch no is 7 | avg error is 1.1535 | weights are [-9.60922177e-02 -1.13867433e-05]\n",
      "Epoch no is 8 | avg error is 1.1765 | weights are [-1.08874832e-01 -1.35390587e-05]\n",
      "Epoch no is 9 | avg error is 1.2002 | weights are [-1.21837657e-01 -1.57229076e-05]\n",
      "Epoch no is 10 | avg error is 1.2246 | weights are [-1.34983233e-01 -1.79387515e-05]\n",
      "Epoch no is 11 | avg error is 1.2496 | weights are [-1.48314136e-01 -2.01870584e-05]\n",
      "Epoch no is 12 | avg error is 1.2753 | weights are [-1.61832979e-01 -2.24683032e-05]\n",
      "Epoch no is 13 | avg error is 1.3018 | weights are [-1.75542411e-01 -2.47829679e-05]\n",
      "Epoch no is 14 | avg error is 1.329 | weights are [-1.89445120e-01 -2.71315414e-05]\n",
      "Epoch no is 15 | avg error is 1.357 | weights are [-2.03543829e-01 -2.95145195e-05]\n"
     ]
    }
   ],
   "source": [
    "weights = np.random.randn(2) * 0.0001 # one extra weight as bias\n",
    "\n",
    "Epoches = 16\n",
    "epoch_loss = []\n",
    "eta = 1e-5\n",
    "\n",
    "for Epoch in range(Epoches):\n",
    "\n",
    "    avg_error = []\n",
    "    \n",
    "    for i in data_all_normalized_with_bias:\n",
    "        \n",
    "        a = np.dot(weights.T , i[0:2])\n",
    "        f_a = a # representing linear activation functio\n",
    "        E = (i[2] - f_a) ** 2  # we are following SGD , so we will update weights  after every error \n",
    "        avg_error.append(E)\n",
    "        weights = weights - eta * (2 * (i[2] - f_a) * i[0:2])\n",
    "        \n",
    "        \n",
    "    epoch_avg_error = np.mean(avg_error)\n",
    "    epoch_loss.append(epoch_avg_error)\n",
    "    print(f\"Epoch no is {Epoch} | avg error is {round(epoch_avg_error , 4)} | weights are {weights}\")\n",
    "\n",
    "\n",
    "\n",
    "\n",
    "    \n",
    "# still weights are exploding , i need to figure out something else.\n"
   ]
  },
  {
   "cell_type": "code",
   "execution_count": null,
   "id": "d432702b",
   "metadata": {},
   "outputs": [],
   "source": []
  }
 ],
 "metadata": {
  "kernelspec": {
   "display_name": "Python 3",
   "language": "python",
   "name": "python3"
  },
  "language_info": {
   "codemirror_mode": {
    "name": "ipython",
    "version": 3
   },
   "file_extension": ".py",
   "mimetype": "text/x-python",
   "name": "python",
   "nbconvert_exporter": "python",
   "pygments_lexer": "ipython3",
   "version": "3.13.2"
  }
 },
 "nbformat": 4,
 "nbformat_minor": 5
}
